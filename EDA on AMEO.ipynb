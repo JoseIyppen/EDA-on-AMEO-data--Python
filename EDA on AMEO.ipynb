{
 "cells": [
  {
   "cell_type": "code",
   "execution_count": 2,
   "id": "0308a6c9",
   "metadata": {},
   "outputs": [],
   "source": [
    "import pandas as pd\n",
    "import numpy as np\n",
    "import seaborn as sns\n",
    "import matplotlib.pyplot as plt"
   ]
  },
  {
   "cell_type": "code",
   "execution_count": 50,
   "id": "73b2cabb",
   "metadata": {},
   "outputs": [],
   "source": [
    "df=pd.read_excel(r\"C:\\Users\\MY BOOK\\OneDrive\\Documents\\Data analytics\\padhai\\ameo 2015.xlsx\")"
   ]
  },
  {
   "cell_type": "code",
   "execution_count": 9,
   "id": "e1a6cd5d",
   "metadata": {},
   "outputs": [
    {
     "data": {
      "text/html": [
       "<div>\n",
       "<style scoped>\n",
       "    .dataframe tbody tr th:only-of-type {\n",
       "        vertical-align: middle;\n",
       "    }\n",
       "\n",
       "    .dataframe tbody tr th {\n",
       "        vertical-align: top;\n",
       "    }\n",
       "\n",
       "    .dataframe thead th {\n",
       "        text-align: right;\n",
       "    }\n",
       "</style>\n",
       "<table border=\"1\" class=\"dataframe\">\n",
       "  <thead>\n",
       "    <tr style=\"text-align: right;\">\n",
       "      <th></th>\n",
       "      <th>ID</th>\n",
       "      <th>Salary</th>\n",
       "      <th>DOJ</th>\n",
       "      <th>DOL</th>\n",
       "      <th>Designation</th>\n",
       "      <th>JobCity</th>\n",
       "      <th>Gender</th>\n",
       "      <th>DOB</th>\n",
       "      <th>10percentage</th>\n",
       "      <th>10board</th>\n",
       "      <th>...</th>\n",
       "      <th>ComputerScience</th>\n",
       "      <th>MechanicalEngg</th>\n",
       "      <th>ElectricalEngg</th>\n",
       "      <th>TelecomEngg</th>\n",
       "      <th>CivilEngg</th>\n",
       "      <th>conscientiousness</th>\n",
       "      <th>agreeableness</th>\n",
       "      <th>extraversion</th>\n",
       "      <th>nueroticism</th>\n",
       "      <th>openess_to_experience</th>\n",
       "    </tr>\n",
       "  </thead>\n",
       "  <tbody>\n",
       "    <tr>\n",
       "      <th>0</th>\n",
       "      <td>203097</td>\n",
       "      <td>420000</td>\n",
       "      <td>2012-06-01</td>\n",
       "      <td>present</td>\n",
       "      <td>senior quality engineer</td>\n",
       "      <td>Bangalore</td>\n",
       "      <td>f</td>\n",
       "      <td>1990-02-19</td>\n",
       "      <td>84.3</td>\n",
       "      <td>board ofsecondary education,ap</td>\n",
       "      <td>...</td>\n",
       "      <td>-1</td>\n",
       "      <td>-1</td>\n",
       "      <td>-1</td>\n",
       "      <td>-1</td>\n",
       "      <td>-1</td>\n",
       "      <td>0.9737</td>\n",
       "      <td>0.8128</td>\n",
       "      <td>0.5269</td>\n",
       "      <td>1.35490</td>\n",
       "      <td>-0.4455</td>\n",
       "    </tr>\n",
       "    <tr>\n",
       "      <th>1</th>\n",
       "      <td>579905</td>\n",
       "      <td>500000</td>\n",
       "      <td>2013-09-01</td>\n",
       "      <td>present</td>\n",
       "      <td>assistant manager</td>\n",
       "      <td>Indore</td>\n",
       "      <td>m</td>\n",
       "      <td>1989-10-04</td>\n",
       "      <td>85.4</td>\n",
       "      <td>cbse</td>\n",
       "      <td>...</td>\n",
       "      <td>-1</td>\n",
       "      <td>-1</td>\n",
       "      <td>-1</td>\n",
       "      <td>-1</td>\n",
       "      <td>-1</td>\n",
       "      <td>-0.7335</td>\n",
       "      <td>0.3789</td>\n",
       "      <td>1.2396</td>\n",
       "      <td>-0.10760</td>\n",
       "      <td>0.8637</td>\n",
       "    </tr>\n",
       "    <tr>\n",
       "      <th>2</th>\n",
       "      <td>810601</td>\n",
       "      <td>325000</td>\n",
       "      <td>2014-06-01</td>\n",
       "      <td>present</td>\n",
       "      <td>systems engineer</td>\n",
       "      <td>Chennai</td>\n",
       "      <td>f</td>\n",
       "      <td>1992-08-03</td>\n",
       "      <td>85.0</td>\n",
       "      <td>cbse</td>\n",
       "      <td>...</td>\n",
       "      <td>-1</td>\n",
       "      <td>-1</td>\n",
       "      <td>-1</td>\n",
       "      <td>-1</td>\n",
       "      <td>-1</td>\n",
       "      <td>0.2718</td>\n",
       "      <td>1.7109</td>\n",
       "      <td>0.1637</td>\n",
       "      <td>-0.86820</td>\n",
       "      <td>0.6721</td>\n",
       "    </tr>\n",
       "    <tr>\n",
       "      <th>3</th>\n",
       "      <td>267447</td>\n",
       "      <td>1100000</td>\n",
       "      <td>2011-07-01</td>\n",
       "      <td>present</td>\n",
       "      <td>senior software engineer</td>\n",
       "      <td>Gurgaon</td>\n",
       "      <td>m</td>\n",
       "      <td>1989-12-05</td>\n",
       "      <td>85.6</td>\n",
       "      <td>cbse</td>\n",
       "      <td>...</td>\n",
       "      <td>-1</td>\n",
       "      <td>-1</td>\n",
       "      <td>-1</td>\n",
       "      <td>-1</td>\n",
       "      <td>-1</td>\n",
       "      <td>0.0464</td>\n",
       "      <td>0.3448</td>\n",
       "      <td>-0.3440</td>\n",
       "      <td>-0.40780</td>\n",
       "      <td>-0.9194</td>\n",
       "    </tr>\n",
       "    <tr>\n",
       "      <th>4</th>\n",
       "      <td>343523</td>\n",
       "      <td>200000</td>\n",
       "      <td>2014-03-01</td>\n",
       "      <td>2015-03-01 00:00:00</td>\n",
       "      <td>get</td>\n",
       "      <td>Manesar</td>\n",
       "      <td>m</td>\n",
       "      <td>1991-02-27</td>\n",
       "      <td>78.0</td>\n",
       "      <td>cbse</td>\n",
       "      <td>...</td>\n",
       "      <td>-1</td>\n",
       "      <td>-1</td>\n",
       "      <td>-1</td>\n",
       "      <td>-1</td>\n",
       "      <td>-1</td>\n",
       "      <td>-0.8810</td>\n",
       "      <td>-0.2793</td>\n",
       "      <td>-1.0697</td>\n",
       "      <td>0.09163</td>\n",
       "      <td>-0.1295</td>\n",
       "    </tr>\n",
       "  </tbody>\n",
       "</table>\n",
       "<p>5 rows × 38 columns</p>\n",
       "</div>"
      ],
      "text/plain": [
       "       ID   Salary        DOJ                  DOL               Designation  \\\n",
       "0  203097   420000 2012-06-01              present   senior quality engineer   \n",
       "1  579905   500000 2013-09-01              present         assistant manager   \n",
       "2  810601   325000 2014-06-01              present          systems engineer   \n",
       "3  267447  1100000 2011-07-01              present  senior software engineer   \n",
       "4  343523   200000 2014-03-01  2015-03-01 00:00:00                       get   \n",
       "\n",
       "     JobCity Gender        DOB  10percentage                         10board  \\\n",
       "0  Bangalore      f 1990-02-19          84.3  board ofsecondary education,ap   \n",
       "1     Indore      m 1989-10-04          85.4                            cbse   \n",
       "2    Chennai      f 1992-08-03          85.0                            cbse   \n",
       "3    Gurgaon      m 1989-12-05          85.6                            cbse   \n",
       "4    Manesar      m 1991-02-27          78.0                            cbse   \n",
       "\n",
       "   ...  ComputerScience  MechanicalEngg ElectricalEngg  TelecomEngg  \\\n",
       "0  ...               -1              -1             -1           -1   \n",
       "1  ...               -1              -1             -1           -1   \n",
       "2  ...               -1              -1             -1           -1   \n",
       "3  ...               -1              -1             -1           -1   \n",
       "4  ...               -1              -1             -1           -1   \n",
       "\n",
       "   CivilEngg conscientiousness agreeableness  extraversion  nueroticism  \\\n",
       "0         -1            0.9737        0.8128        0.5269      1.35490   \n",
       "1         -1           -0.7335        0.3789        1.2396     -0.10760   \n",
       "2         -1            0.2718        1.7109        0.1637     -0.86820   \n",
       "3         -1            0.0464        0.3448       -0.3440     -0.40780   \n",
       "4         -1           -0.8810       -0.2793       -1.0697      0.09163   \n",
       "\n",
       "   openess_to_experience  \n",
       "0                -0.4455  \n",
       "1                 0.8637  \n",
       "2                 0.6721  \n",
       "3                -0.9194  \n",
       "4                -0.1295  \n",
       "\n",
       "[5 rows x 38 columns]"
      ]
     },
     "execution_count": 9,
     "metadata": {},
     "output_type": "execute_result"
    }
   ],
   "source": [
    "df.head()"
   ]
  },
  {
   "cell_type": "code",
   "execution_count": 11,
   "id": "d677f392",
   "metadata": {},
   "outputs": [
    {
     "data": {
      "text/plain": [
       "(3998, 38)"
      ]
     },
     "execution_count": 11,
     "metadata": {},
     "output_type": "execute_result"
    }
   ],
   "source": [
    "df.shape"
   ]
  },
  {
   "cell_type": "code",
   "execution_count": 10,
   "id": "11d39531",
   "metadata": {},
   "outputs": [
    {
     "name": "stdout",
     "output_type": "stream",
     "text": [
      "<class 'pandas.core.frame.DataFrame'>\n",
      "RangeIndex: 3998 entries, 0 to 3997\n",
      "Data columns (total 38 columns):\n",
      " #   Column                 Non-Null Count  Dtype         \n",
      "---  ------                 --------------  -----         \n",
      " 0   ID                     3998 non-null   int64         \n",
      " 1   Salary                 3998 non-null   int64         \n",
      " 2   DOJ                    3998 non-null   datetime64[ns]\n",
      " 3   DOL                    3998 non-null   object        \n",
      " 4   Designation            3998 non-null   object        \n",
      " 5   JobCity                3998 non-null   object        \n",
      " 6   Gender                 3998 non-null   object        \n",
      " 7   DOB                    3998 non-null   datetime64[ns]\n",
      " 8   10percentage           3998 non-null   float64       \n",
      " 9   10board                3998 non-null   object        \n",
      " 10  12graduation           3998 non-null   int64         \n",
      " 11  12percentage           3998 non-null   float64       \n",
      " 12  12board                3998 non-null   object        \n",
      " 13  CollegeID              3998 non-null   int64         \n",
      " 14  CollegeTier            3998 non-null   int64         \n",
      " 15  Degree                 3998 non-null   object        \n",
      " 16  Specialization         3998 non-null   object        \n",
      " 17  collegeGPA             3998 non-null   float64       \n",
      " 18  CollegeCityID          3998 non-null   int64         \n",
      " 19  CollegeCityTier        3998 non-null   int64         \n",
      " 20  CollegeState           3998 non-null   object        \n",
      " 21  GraduationYear         3998 non-null   int64         \n",
      " 22  English                3998 non-null   int64         \n",
      " 23  Logical                3998 non-null   int64         \n",
      " 24  Quant                  3998 non-null   int64         \n",
      " 25  Domain                 3998 non-null   float64       \n",
      " 26  ComputerProgramming    3998 non-null   int64         \n",
      " 27  ElectronicsAndSemicon  3998 non-null   int64         \n",
      " 28  ComputerScience        3998 non-null   int64         \n",
      " 29  MechanicalEngg         3998 non-null   int64         \n",
      " 30  ElectricalEngg         3998 non-null   int64         \n",
      " 31  TelecomEngg            3998 non-null   int64         \n",
      " 32  CivilEngg              3998 non-null   int64         \n",
      " 33  conscientiousness      3998 non-null   float64       \n",
      " 34  agreeableness          3998 non-null   float64       \n",
      " 35  extraversion           3998 non-null   float64       \n",
      " 36  nueroticism            3998 non-null   float64       \n",
      " 37  openess_to_experience  3998 non-null   float64       \n",
      "dtypes: datetime64[ns](2), float64(9), int64(18), object(9)\n",
      "memory usage: 1.2+ MB\n"
     ]
    }
   ],
   "source": [
    "# Checking the data types of each columns \n",
    "df.info()"
   ]
  },
  {
   "cell_type": "code",
   "execution_count": 12,
   "id": "e384e260",
   "metadata": {},
   "outputs": [
    {
     "data": {
      "text/plain": [
       "0"
      ]
     },
     "execution_count": 12,
     "metadata": {},
     "output_type": "execute_result"
    }
   ],
   "source": [
    "# Looking for missing values\n",
    "df.isnull().sum().sum()"
   ]
  },
  {
   "cell_type": "code",
   "execution_count": null,
   "id": "41ea2c68",
   "metadata": {},
   "outputs": [],
   "source": [
    "#Checking whether there is a gender bias on salary"
   ]
  },
  {
   "cell_type": "code",
   "execution_count": 13,
   "id": "1ed115c3",
   "metadata": {},
   "outputs": [
    {
     "data": {
      "text/plain": [
       "array(['f', 'm'], dtype=object)"
      ]
     },
     "execution_count": 13,
     "metadata": {},
     "output_type": "execute_result"
    }
   ],
   "source": [
    "df.Gender.unique()"
   ]
  },
  {
   "cell_type": "code",
   "execution_count": 23,
   "id": "960e5979",
   "metadata": {},
   "outputs": [],
   "source": [
    "#sns.violinplot(x='Gender', y='Salary', data=df)"
   ]
  },
  {
   "cell_type": "code",
   "execution_count": null,
   "id": "04fd085d",
   "metadata": {},
   "outputs": [],
   "source": []
  },
  {
   "cell_type": "code",
   "execution_count": null,
   "id": "6b23d14c",
   "metadata": {},
   "outputs": [],
   "source": []
  },
  {
   "cell_type": "code",
   "execution_count": 4,
   "id": "5a9aab8a",
   "metadata": {},
   "outputs": [
    {
     "data": {
      "text/html": [
       "<div>\n",
       "<style scoped>\n",
       "    .dataframe tbody tr th:only-of-type {\n",
       "        vertical-align: middle;\n",
       "    }\n",
       "\n",
       "    .dataframe tbody tr th {\n",
       "        vertical-align: top;\n",
       "    }\n",
       "\n",
       "    .dataframe thead th {\n",
       "        text-align: right;\n",
       "    }\n",
       "</style>\n",
       "<table border=\"1\" class=\"dataframe\">\n",
       "  <thead>\n",
       "    <tr style=\"text-align: right;\">\n",
       "      <th></th>\n",
       "      <th>10percentage</th>\n",
       "      <th>12percentage</th>\n",
       "      <th>collegeGPA</th>\n",
       "    </tr>\n",
       "    <tr>\n",
       "      <th>Gender</th>\n",
       "      <th></th>\n",
       "      <th></th>\n",
       "      <th></th>\n",
       "    </tr>\n",
       "  </thead>\n",
       "  <tbody>\n",
       "    <tr>\n",
       "      <th>f</th>\n",
       "      <td>80.932894</td>\n",
       "      <td>77.007618</td>\n",
       "      <td>74.048056</td>\n",
       "    </tr>\n",
       "    <tr>\n",
       "      <th>m</th>\n",
       "      <td>76.979000</td>\n",
       "      <td>73.666636</td>\n",
       "      <td>70.679947</td>\n",
       "    </tr>\n",
       "  </tbody>\n",
       "</table>\n",
       "</div>"
      ],
      "text/plain": [
       "        10percentage  12percentage  collegeGPA\n",
       "Gender                                        \n",
       "f          80.932894     77.007618   74.048056\n",
       "m          76.979000     73.666636   70.679947"
      ]
     },
     "execution_count": 4,
     "metadata": {},
     "output_type": "execute_result"
    }
   ],
   "source": [
    "# Gender wise academic performance .\n",
    "df[['10percentage', '12percentage', 'collegeGPA', 'Gender']].groupby('Gender').mean()"
   ]
  },
  {
   "cell_type": "code",
   "execution_count": 5,
   "id": "145dc61a",
   "metadata": {},
   "outputs": [
    {
     "data": {
      "text/html": [
       "<div>\n",
       "<style scoped>\n",
       "    .dataframe tbody tr th:only-of-type {\n",
       "        vertical-align: middle;\n",
       "    }\n",
       "\n",
       "    .dataframe tbody tr th {\n",
       "        vertical-align: top;\n",
       "    }\n",
       "\n",
       "    .dataframe thead th {\n",
       "        text-align: right;\n",
       "    }\n",
       "</style>\n",
       "<table border=\"1\" class=\"dataframe\">\n",
       "  <thead>\n",
       "    <tr style=\"text-align: right;\">\n",
       "      <th></th>\n",
       "      <th>10percentage</th>\n",
       "      <th>12percentage</th>\n",
       "      <th>collegeGPA</th>\n",
       "    </tr>\n",
       "    <tr>\n",
       "      <th>Gender</th>\n",
       "      <th></th>\n",
       "      <th></th>\n",
       "      <th></th>\n",
       "    </tr>\n",
       "  </thead>\n",
       "  <tbody>\n",
       "    <tr>\n",
       "      <th>f</th>\n",
       "      <td>82.4</td>\n",
       "      <td>77.0</td>\n",
       "      <td>74.00</td>\n",
       "    </tr>\n",
       "    <tr>\n",
       "      <th>m</th>\n",
       "      <td>78.0</td>\n",
       "      <td>73.4</td>\n",
       "      <td>70.66</td>\n",
       "    </tr>\n",
       "  </tbody>\n",
       "</table>\n",
       "</div>"
      ],
      "text/plain": [
       "        10percentage  12percentage  collegeGPA\n",
       "Gender                                        \n",
       "f               82.4          77.0       74.00\n",
       "m               78.0          73.4       70.66"
      ]
     },
     "execution_count": 5,
     "metadata": {},
     "output_type": "execute_result"
    }
   ],
   "source": [
    "df[['10percentage', '12percentage', 'collegeGPA', 'Gender']].groupby('Gender').median()"
   ]
  },
  {
   "cell_type": "code",
   "execution_count": 6,
   "id": "b7f01b49",
   "metadata": {},
   "outputs": [],
   "source": [
    "# Females seems to be performing better than males in all levels of education. \n",
    "\n",
    "# Now we proceed to check their difference in personality test."
   ]
  },
  {
   "cell_type": "code",
   "execution_count": 7,
   "id": "4340eeae",
   "metadata": {},
   "outputs": [
    {
     "data": {
      "text/html": [
       "<div>\n",
       "<style scoped>\n",
       "    .dataframe tbody tr th:only-of-type {\n",
       "        vertical-align: middle;\n",
       "    }\n",
       "\n",
       "    .dataframe tbody tr th {\n",
       "        vertical-align: top;\n",
       "    }\n",
       "\n",
       "    .dataframe thead th {\n",
       "        text-align: right;\n",
       "    }\n",
       "</style>\n",
       "<table border=\"1\" class=\"dataframe\">\n",
       "  <thead>\n",
       "    <tr style=\"text-align: right;\">\n",
       "      <th></th>\n",
       "      <th>conscientiousness</th>\n",
       "      <th>agreeableness</th>\n",
       "      <th>extraversion</th>\n",
       "      <th>nueroticism</th>\n",
       "      <th>openess_to_experience</th>\n",
       "    </tr>\n",
       "    <tr>\n",
       "      <th>Gender</th>\n",
       "      <th></th>\n",
       "      <th></th>\n",
       "      <th></th>\n",
       "      <th></th>\n",
       "      <th></th>\n",
       "    </tr>\n",
       "  </thead>\n",
       "  <tbody>\n",
       "    <tr>\n",
       "      <th>f</th>\n",
       "      <td>0.121034</td>\n",
       "      <td>0.292444</td>\n",
       "      <td>0.012173</td>\n",
       "      <td>-0.179358</td>\n",
       "      <td>0.038246</td>\n",
       "    </tr>\n",
       "    <tr>\n",
       "      <th>m</th>\n",
       "      <td>-0.087826</td>\n",
       "      <td>0.100566</td>\n",
       "      <td>-0.000198</td>\n",
       "      <td>-0.165783</td>\n",
       "      <td>-0.193609</td>\n",
       "    </tr>\n",
       "  </tbody>\n",
       "</table>\n",
       "</div>"
      ],
      "text/plain": [
       "        conscientiousness  agreeableness  extraversion  nueroticism  \\\n",
       "Gender                                                                \n",
       "f                0.121034       0.292444      0.012173    -0.179358   \n",
       "m               -0.087826       0.100566     -0.000198    -0.165783   \n",
       "\n",
       "        openess_to_experience  \n",
       "Gender                         \n",
       "f                    0.038246  \n",
       "m                   -0.193609  "
      ]
     },
     "execution_count": 7,
     "metadata": {},
     "output_type": "execute_result"
    }
   ],
   "source": [
    "df[['conscientiousness', 'agreeableness', 'extraversion', 'nueroticism', 'openess_to_experience', 'Gender']].groupby('Gender').mean()"
   ]
  },
  {
   "cell_type": "code",
   "execution_count": 8,
   "id": "95cb3a3c",
   "metadata": {},
   "outputs": [
    {
     "data": {
      "text/html": [
       "<div>\n",
       "<style scoped>\n",
       "    .dataframe tbody tr th:only-of-type {\n",
       "        vertical-align: middle;\n",
       "    }\n",
       "\n",
       "    .dataframe tbody tr th {\n",
       "        vertical-align: top;\n",
       "    }\n",
       "\n",
       "    .dataframe thead th {\n",
       "        text-align: right;\n",
       "    }\n",
       "</style>\n",
       "<table border=\"1\" class=\"dataframe\">\n",
       "  <thead>\n",
       "    <tr style=\"text-align: right;\">\n",
       "      <th></th>\n",
       "      <th>conscientiousness</th>\n",
       "      <th>agreeableness</th>\n",
       "      <th>extraversion</th>\n",
       "      <th>nueroticism</th>\n",
       "      <th>openess_to_experience</th>\n",
       "    </tr>\n",
       "    <tr>\n",
       "      <th>Gender</th>\n",
       "      <th></th>\n",
       "      <th></th>\n",
       "      <th></th>\n",
       "      <th></th>\n",
       "      <th></th>\n",
       "    </tr>\n",
       "  </thead>\n",
       "  <tbody>\n",
       "    <tr>\n",
       "      <th>f</th>\n",
       "      <td>0.2718</td>\n",
       "      <td>0.3789</td>\n",
       "      <td>0.0914</td>\n",
       "      <td>-0.23440</td>\n",
       "      <td>0.0973</td>\n",
       "    </tr>\n",
       "    <tr>\n",
       "      <th>m</th>\n",
       "      <td>-0.0154</td>\n",
       "      <td>0.2124</td>\n",
       "      <td>0.0914</td>\n",
       "      <td>-0.17277</td>\n",
       "      <td>-0.0943</td>\n",
       "    </tr>\n",
       "  </tbody>\n",
       "</table>\n",
       "</div>"
      ],
      "text/plain": [
       "        conscientiousness  agreeableness  extraversion  nueroticism  \\\n",
       "Gender                                                                \n",
       "f                  0.2718         0.3789        0.0914     -0.23440   \n",
       "m                 -0.0154         0.2124        0.0914     -0.17277   \n",
       "\n",
       "        openess_to_experience  \n",
       "Gender                         \n",
       "f                      0.0973  \n",
       "m                     -0.0943  "
      ]
     },
     "execution_count": 8,
     "metadata": {},
     "output_type": "execute_result"
    }
   ],
   "source": [
    "df[['conscientiousness', 'agreeableness', 'extraversion', 'nueroticism', 'openess_to_experience', 'Gender']].groupby('Gender').median()"
   ]
  },
  {
   "cell_type": "code",
   "execution_count": 9,
   "id": "5e762988",
   "metadata": {},
   "outputs": [],
   "source": [
    "# Females outperform males in personality traits"
   ]
  },
  {
   "cell_type": "code",
   "execution_count": 10,
   "id": "8c50f35b",
   "metadata": {},
   "outputs": [
    {
     "data": {
      "text/plain": [
       "Text(0.5, 0.98, 'Salary levels by gender')"
      ]
     },
     "execution_count": 10,
     "metadata": {},
     "output_type": "execute_result"
    },
    {
     "data": {
      "image/png": "[encoded data removed]",
      "text/plain": [
       "<Figure size 432x288 with 1 Axes>"
      ]
     },
     "metadata": {
      "needs_background": "light"
     },
     "output_type": "display_data"
    }
   ],
   "source": [
    "sns.boxplot(x='Salary', y = 'Gender', data=df)\n",
    "plt.suptitle('Salary levels by gender')"
   ]
  },
  {
   "cell_type": "code",
   "execution_count": 49,
   "id": "c4dddefc",
   "metadata": {},
   "outputs": [],
   "source": [
    "# From the boxplot, observe that males have higher proportion of high earners. \n",
    "\n",
    "# To derive more information on how males and females differ in earning, we analyze further."
   ]
  },
  {
   "cell_type": "code",
   "execution_count": null,
   "id": "74a81781",
   "metadata": {},
   "outputs": [],
   "source": []
  },
  {
   "cell_type": "code",
   "execution_count": 11,
   "id": "d96ec128",
   "metadata": {},
   "outputs": [
    {
     "data": {
      "text/html": [
       "<div>\n",
       "<style scoped>\n",
       "    .dataframe tbody tr th:only-of-type {\n",
       "        vertical-align: middle;\n",
       "    }\n",
       "\n",
       "    .dataframe tbody tr th {\n",
       "        vertical-align: top;\n",
       "    }\n",
       "\n",
       "    .dataframe thead th {\n",
       "        text-align: right;\n",
       "    }\n",
       "</style>\n",
       "<table border=\"1\" class=\"dataframe\">\n",
       "  <thead>\n",
       "    <tr style=\"text-align: right;\">\n",
       "      <th></th>\n",
       "      <th>Salary</th>\n",
       "    </tr>\n",
       "    <tr>\n",
       "      <th>Gender</th>\n",
       "      <th></th>\n",
       "    </tr>\n",
       "  </thead>\n",
       "  <tbody>\n",
       "    <tr>\n",
       "      <th>f</th>\n",
       "      <td>294937.304075</td>\n",
       "    </tr>\n",
       "    <tr>\n",
       "      <th>m</th>\n",
       "      <td>311716.211772</td>\n",
       "    </tr>\n",
       "  </tbody>\n",
       "</table>\n",
       "</div>"
      ],
      "text/plain": [
       "               Salary\n",
       "Gender               \n",
       "f       294937.304075\n",
       "m       311716.211772"
      ]
     },
     "execution_count": 11,
     "metadata": {},
     "output_type": "execute_result"
    }
   ],
   "source": [
    "df[['Salary', 'Gender']].groupby('Gender').mean()"
   ]
  },
  {
   "cell_type": "code",
   "execution_count": 12,
   "id": "5e10ff40",
   "metadata": {},
   "outputs": [
    {
     "data": {
      "text/html": [
       "<div>\n",
       "<style scoped>\n",
       "    .dataframe tbody tr th:only-of-type {\n",
       "        vertical-align: middle;\n",
       "    }\n",
       "\n",
       "    .dataframe tbody tr th {\n",
       "        vertical-align: top;\n",
       "    }\n",
       "\n",
       "    .dataframe thead th {\n",
       "        text-align: right;\n",
       "    }\n",
       "</style>\n",
       "<table border=\"1\" class=\"dataframe\">\n",
       "  <thead>\n",
       "    <tr style=\"text-align: right;\">\n",
       "      <th></th>\n",
       "      <th>Salary</th>\n",
       "    </tr>\n",
       "    <tr>\n",
       "      <th>Gender</th>\n",
       "      <th></th>\n",
       "    </tr>\n",
       "  </thead>\n",
       "  <tbody>\n",
       "    <tr>\n",
       "      <th>f</th>\n",
       "      <td>300000</td>\n",
       "    </tr>\n",
       "    <tr>\n",
       "      <th>m</th>\n",
       "      <td>300000</td>\n",
       "    </tr>\n",
       "  </tbody>\n",
       "</table>\n",
       "</div>"
      ],
      "text/plain": [
       "        Salary\n",
       "Gender        \n",
       "f       300000\n",
       "m       300000"
      ]
     },
     "execution_count": 12,
     "metadata": {},
     "output_type": "execute_result"
    }
   ],
   "source": [
    "df[['Salary', 'Gender']].groupby('Gender').median()"
   ]
  },
  {
   "cell_type": "code",
   "execution_count": 32,
   "id": "96c60830",
   "metadata": {},
   "outputs": [],
   "source": [
    "# Mean salary of males are higher than that of females. Since they both have same median, its possible\n",
    "# that means are affected by outliers. We proceed with analysis to check whether thats the case."
   ]
  },
  {
   "cell_type": "code",
   "execution_count": 51,
   "id": "5218f88f",
   "metadata": {},
   "outputs": [],
   "source": [
    "th = df['Salary'].mean() + df['Salary'].std()\n",
    "df['HighIncome'] = (df.Salary > th)\n",
    "\n",
    "# From the dataframe, we select those persons who are earning higher salaries. "
   ]
  },
  {
   "cell_type": "code",
   "execution_count": 14,
   "id": "cfb664d4",
   "metadata": {},
   "outputs": [
    {
     "data": {
      "text/html": [
       "<div>\n",
       "<style scoped>\n",
       "    .dataframe tbody tr th:only-of-type {\n",
       "        vertical-align: middle;\n",
       "    }\n",
       "\n",
       "    .dataframe tbody tr th {\n",
       "        vertical-align: top;\n",
       "    }\n",
       "\n",
       "    .dataframe thead th {\n",
       "        text-align: right;\n",
       "    }\n",
       "</style>\n",
       "<table border=\"1\" class=\"dataframe\">\n",
       "  <thead>\n",
       "    <tr style=\"text-align: right;\">\n",
       "      <th></th>\n",
       "      <th></th>\n",
       "      <th>Salary</th>\n",
       "    </tr>\n",
       "    <tr>\n",
       "      <th>HighIncome</th>\n",
       "      <th>Gender</th>\n",
       "      <th></th>\n",
       "    </tr>\n",
       "  </thead>\n",
       "  <tbody>\n",
       "    <tr>\n",
       "      <th rowspan=\"2\" valign=\"top\">False</th>\n",
       "      <th>f</th>\n",
       "      <td>271499.454744</td>\n",
       "    </tr>\n",
       "    <tr>\n",
       "      <th>m</th>\n",
       "      <td>272598.433606</td>\n",
       "    </tr>\n",
       "    <tr>\n",
       "      <th rowspan=\"2\" valign=\"top\">True</th>\n",
       "      <th>f</th>\n",
       "      <td>832250.000000</td>\n",
       "    </tr>\n",
       "    <tr>\n",
       "      <th>m</th>\n",
       "      <td>785344.827586</td>\n",
       "    </tr>\n",
       "  </tbody>\n",
       "</table>\n",
       "</div>"
      ],
      "text/plain": [
       "                          Salary\n",
       "HighIncome Gender               \n",
       "False      f       271499.454744\n",
       "           m       272598.433606\n",
       "True       f       832250.000000\n",
       "           m       785344.827586"
      ]
     },
     "execution_count": 14,
     "metadata": {},
     "output_type": "execute_result"
    }
   ],
   "source": [
    "df[['Salary', 'HighIncome', 'Gender']].groupby(['HighIncome', 'Gender']).mean()"
   ]
  },
  {
   "cell_type": "code",
   "execution_count": 35,
   "id": "d2842c7b",
   "metadata": {},
   "outputs": [],
   "source": [
    "# Observe that both males and females are earning allmost the same in the lower income group.\n",
    "# Contrary to what we have expected, in the high income group males are earning less than that of females on average.\n",
    "# Digging further..."
   ]
  },
  {
   "cell_type": "code",
   "execution_count": 15,
   "id": "45c5f840",
   "metadata": {},
   "outputs": [
    {
     "data": {
      "text/html": [
       "<div>\n",
       "<style scoped>\n",
       "    .dataframe tbody tr th:only-of-type {\n",
       "        vertical-align: middle;\n",
       "    }\n",
       "\n",
       "    .dataframe tbody tr th {\n",
       "        vertical-align: top;\n",
       "    }\n",
       "\n",
       "    .dataframe thead th {\n",
       "        text-align: right;\n",
       "    }\n",
       "</style>\n",
       "<table border=\"1\" class=\"dataframe\">\n",
       "  <thead>\n",
       "    <tr style=\"text-align: right;\">\n",
       "      <th></th>\n",
       "      <th></th>\n",
       "      <th>Salary</th>\n",
       "    </tr>\n",
       "    <tr>\n",
       "      <th>HighIncome</th>\n",
       "      <th>Gender</th>\n",
       "      <th></th>\n",
       "    </tr>\n",
       "  </thead>\n",
       "  <tbody>\n",
       "    <tr>\n",
       "      <th rowspan=\"2\" valign=\"top\">False</th>\n",
       "      <th>f</th>\n",
       "      <td>917</td>\n",
       "    </tr>\n",
       "    <tr>\n",
       "      <th>m</th>\n",
       "      <td>2809</td>\n",
       "    </tr>\n",
       "    <tr>\n",
       "      <th rowspan=\"2\" valign=\"top\">True</th>\n",
       "      <th>f</th>\n",
       "      <td>40</td>\n",
       "    </tr>\n",
       "    <tr>\n",
       "      <th>m</th>\n",
       "      <td>232</td>\n",
       "    </tr>\n",
       "  </tbody>\n",
       "</table>\n",
       "</div>"
      ],
      "text/plain": [
       "                   Salary\n",
       "HighIncome Gender        \n",
       "False      f          917\n",
       "           m         2809\n",
       "True       f           40\n",
       "           m          232"
      ]
     },
     "execution_count": 15,
     "metadata": {},
     "output_type": "execute_result"
    }
   ],
   "source": [
    "df[['Salary', 'HighIncome', 'Gender']].groupby(['HighIncome', 'Gender']).count()"
   ]
  },
  {
   "cell_type": "code",
   "execution_count": 37,
   "id": "10d0fcbc",
   "metadata": {},
   "outputs": [],
   "source": [
    "# Observe that a very low proportion of those in high income group are females. This implies that females are not \n",
    "# rising up well enough in their careers."
   ]
  },
  {
   "cell_type": "code",
   "execution_count": 16,
   "id": "e73bcc77",
   "metadata": {},
   "outputs": [
    {
     "data": {
      "text/plain": [
       "array([2, 1], dtype=int64)"
      ]
     },
     "execution_count": 16,
     "metadata": {},
     "output_type": "execute_result"
    }
   ],
   "source": [
    "df.CollegeTier.unique()"
   ]
  },
  {
   "cell_type": "code",
   "execution_count": 17,
   "id": "66fd8936",
   "metadata": {},
   "outputs": [
    {
     "data": {
      "text/html": [
       "<div>\n",
       "<style scoped>\n",
       "    .dataframe tbody tr th:only-of-type {\n",
       "        vertical-align: middle;\n",
       "    }\n",
       "\n",
       "    .dataframe tbody tr th {\n",
       "        vertical-align: top;\n",
       "    }\n",
       "\n",
       "    .dataframe thead th {\n",
       "        text-align: right;\n",
       "    }\n",
       "</style>\n",
       "<table border=\"1\" class=\"dataframe\">\n",
       "  <thead>\n",
       "    <tr style=\"text-align: right;\">\n",
       "      <th></th>\n",
       "      <th></th>\n",
       "      <th>Salary</th>\n",
       "    </tr>\n",
       "    <tr>\n",
       "      <th>HighIncome</th>\n",
       "      <th>CollegeTier</th>\n",
       "      <th></th>\n",
       "    </tr>\n",
       "  </thead>\n",
       "  <tbody>\n",
       "    <tr>\n",
       "      <th rowspan=\"2\" valign=\"top\">False</th>\n",
       "      <th>1</th>\n",
       "      <td>234</td>\n",
       "    </tr>\n",
       "    <tr>\n",
       "      <th>2</th>\n",
       "      <td>3492</td>\n",
       "    </tr>\n",
       "    <tr>\n",
       "      <th rowspan=\"2\" valign=\"top\">True</th>\n",
       "      <th>1</th>\n",
       "      <td>63</td>\n",
       "    </tr>\n",
       "    <tr>\n",
       "      <th>2</th>\n",
       "      <td>209</td>\n",
       "    </tr>\n",
       "  </tbody>\n",
       "</table>\n",
       "</div>"
      ],
      "text/plain": [
       "                        Salary\n",
       "HighIncome CollegeTier        \n",
       "False      1               234\n",
       "           2              3492\n",
       "True       1                63\n",
       "           2               209"
      ]
     },
     "execution_count": 17,
     "metadata": {},
     "output_type": "execute_result"
    }
   ],
   "source": [
    "df[['CollegeTier', 'HighIncome', 'Salary']].groupby(['HighIncome', 'CollegeTier']).count()"
   ]
  },
  {
   "cell_type": "code",
   "execution_count": 18,
   "id": "149a74db",
   "metadata": {},
   "outputs": [
    {
     "name": "stdout",
     "output_type": "stream",
     "text": [
      "Low income_college tier 2_percentage  93.71980676328504\n",
      "High income_college tier 2_percentage  76.83823529411765\n"
     ]
    }
   ],
   "source": [
    "print('Low income_college tier 2_percentage ', 3492/(3492+234)*100)\n",
    "print('High income_college tier 2_percentage ', 209/(209+63)*100)"
   ]
  },
  {
   "cell_type": "code",
   "execution_count": 19,
   "id": "744f5e9b",
   "metadata": {},
   "outputs": [],
   "source": [
    "# Observe that there is a reduction in tier 2 representation high income group\n",
    "# Since the number of students graduating from tier 1 colleges are much less than that of those from tier 2,\n",
    "# this means that tier 1 students are getting better salaries."
   ]
  },
  {
   "cell_type": "code",
   "execution_count": 20,
   "id": "273ad1af",
   "metadata": {},
   "outputs": [
    {
     "data": {
      "text/html": [
       "<div>\n",
       "<style scoped>\n",
       "    .dataframe tbody tr th:only-of-type {\n",
       "        vertical-align: middle;\n",
       "    }\n",
       "\n",
       "    .dataframe tbody tr th {\n",
       "        vertical-align: top;\n",
       "    }\n",
       "\n",
       "    .dataframe thead th {\n",
       "        text-align: right;\n",
       "    }\n",
       "</style>\n",
       "<table border=\"1\" class=\"dataframe\">\n",
       "  <thead>\n",
       "    <tr style=\"text-align: right;\">\n",
       "      <th></th>\n",
       "      <th></th>\n",
       "      <th>Salary</th>\n",
       "    </tr>\n",
       "    <tr>\n",
       "      <th>CollegeTier</th>\n",
       "      <th>Gender</th>\n",
       "      <th></th>\n",
       "    </tr>\n",
       "  </thead>\n",
       "  <tbody>\n",
       "    <tr>\n",
       "      <th rowspan=\"2\" valign=\"top\">1</th>\n",
       "      <th>f</th>\n",
       "      <td>51</td>\n",
       "    </tr>\n",
       "    <tr>\n",
       "      <th>m</th>\n",
       "      <td>246</td>\n",
       "    </tr>\n",
       "    <tr>\n",
       "      <th rowspan=\"2\" valign=\"top\">2</th>\n",
       "      <th>f</th>\n",
       "      <td>906</td>\n",
       "    </tr>\n",
       "    <tr>\n",
       "      <th>m</th>\n",
       "      <td>2795</td>\n",
       "    </tr>\n",
       "  </tbody>\n",
       "</table>\n",
       "</div>"
      ],
      "text/plain": [
       "                    Salary\n",
       "CollegeTier Gender        \n",
       "1           f           51\n",
       "            m          246\n",
       "2           f          906\n",
       "            m         2795"
      ]
     },
     "execution_count": 20,
     "metadata": {},
     "output_type": "execute_result"
    }
   ],
   "source": [
    "df[['Gender', 'CollegeTier', 'Salary']].groupby(['CollegeTier', 'Gender']).count()"
   ]
  },
  {
   "cell_type": "code",
   "execution_count": 21,
   "id": "930f6789",
   "metadata": {},
   "outputs": [
    {
     "name": "stdout",
     "output_type": "stream",
     "text": [
      "In college tier 1 female percentage is 17.17171717171717\n",
      "In college tier 2 female percentage is 24.479870305322883\n"
     ]
    }
   ],
   "source": [
    "print('In college tier 1 female percentage is', 51/(246+51)*100)\n",
    "print('In college tier 2 female percentage is', 906/(906+2795)*100)"
   ]
  },
  {
   "cell_type": "code",
   "execution_count": 45,
   "id": "77038133",
   "metadata": {},
   "outputs": [],
   "source": [
    "# Females tend to enrol in tier 2 colleges more than that in tier 1 colleges. This could be a reason for their underperformance.  "
   ]
  },
  {
   "cell_type": "code",
   "execution_count": 22,
   "id": "39109e3e",
   "metadata": {},
   "outputs": [
    {
     "data": {
      "text/plain": [
       "array(['B.Tech/B.E.', 'MCA', 'M.Tech./M.E.', 'M.Sc. (Tech.)'],\n",
       "      dtype=object)"
      ]
     },
     "execution_count": 22,
     "metadata": {},
     "output_type": "execute_result"
    }
   ],
   "source": [
    "# Now we proceed to analyse the salary distribution with resepect to degree\n",
    "\n",
    "df['Degree'].unique()"
   ]
  },
  {
   "cell_type": "code",
   "execution_count": 23,
   "id": "4a6f1cf9",
   "metadata": {},
   "outputs": [
    {
     "data": {
      "text/html": [
       "<div>\n",
       "<style scoped>\n",
       "    .dataframe tbody tr th:only-of-type {\n",
       "        vertical-align: middle;\n",
       "    }\n",
       "\n",
       "    .dataframe tbody tr th {\n",
       "        vertical-align: top;\n",
       "    }\n",
       "\n",
       "    .dataframe thead th {\n",
       "        text-align: right;\n",
       "    }\n",
       "</style>\n",
       "<table border=\"1\" class=\"dataframe\">\n",
       "  <thead>\n",
       "    <tr style=\"text-align: right;\">\n",
       "      <th></th>\n",
       "      <th></th>\n",
       "      <th>Salary</th>\n",
       "    </tr>\n",
       "    <tr>\n",
       "      <th>Degree</th>\n",
       "      <th>Gender</th>\n",
       "      <th></th>\n",
       "    </tr>\n",
       "  </thead>\n",
       "  <tbody>\n",
       "    <tr>\n",
       "      <th rowspan=\"2\" valign=\"top\">B.Tech/B.E.</th>\n",
       "      <th>f</th>\n",
       "      <td>889</td>\n",
       "    </tr>\n",
       "    <tr>\n",
       "      <th>m</th>\n",
       "      <td>2811</td>\n",
       "    </tr>\n",
       "    <tr>\n",
       "      <th rowspan=\"2\" valign=\"top\">M.Sc. (Tech.)</th>\n",
       "      <th>f</th>\n",
       "      <td>1</td>\n",
       "    </tr>\n",
       "    <tr>\n",
       "      <th>m</th>\n",
       "      <td>1</td>\n",
       "    </tr>\n",
       "    <tr>\n",
       "      <th rowspan=\"2\" valign=\"top\">M.Tech./M.E.</th>\n",
       "      <th>f</th>\n",
       "      <td>9</td>\n",
       "    </tr>\n",
       "    <tr>\n",
       "      <th>m</th>\n",
       "      <td>44</td>\n",
       "    </tr>\n",
       "    <tr>\n",
       "      <th rowspan=\"2\" valign=\"top\">MCA</th>\n",
       "      <th>f</th>\n",
       "      <td>58</td>\n",
       "    </tr>\n",
       "    <tr>\n",
       "      <th>m</th>\n",
       "      <td>185</td>\n",
       "    </tr>\n",
       "  </tbody>\n",
       "</table>\n",
       "</div>"
      ],
      "text/plain": [
       "                      Salary\n",
       "Degree        Gender        \n",
       "B.Tech/B.E.   f          889\n",
       "              m         2811\n",
       "M.Sc. (Tech.) f            1\n",
       "              m            1\n",
       "M.Tech./M.E.  f            9\n",
       "              m           44\n",
       "MCA           f           58\n",
       "              m          185"
      ]
     },
     "execution_count": 23,
     "metadata": {},
     "output_type": "execute_result"
    }
   ],
   "source": [
    "df[['Salary', 'Degree', 'Gender']].groupby(['Degree','Gender']).count()"
   ]
  },
  {
   "cell_type": "code",
   "execution_count": 24,
   "id": "27a1f505",
   "metadata": {},
   "outputs": [
    {
     "name": "stdout",
     "output_type": "stream",
     "text": [
      "Percentage of females in B.Tech/B.E. is  0.24027027027027026\n",
      "Percentage of females in  M.Tech./M.E. is  0.16666666666666666\n",
      "Percentage of females in MCA is  0.23868312757201646\n"
     ]
    }
   ],
   "source": [
    "print('Percentage of females in B.Tech/B.E. is ', 889/(889+2811))\n",
    "print('Percentage of females in  M.Tech./M.E. is ', 9/54 )\n",
    "print('Percentage of females in MCA is ', 58/(58+185))"
   ]
  },
  {
   "cell_type": "code",
   "execution_count": 25,
   "id": "b525fdb6",
   "metadata": {},
   "outputs": [],
   "source": [
    "# There is only one person with MSc degree in this data set, so we neglect it in further analysis\n",
    "# Observe that most of the candidates donot have post graduation.\n",
    "# Proportion of females pursuing post graduation is lower compared to males\n",
    "\n",
    "mask = df['Degree'] == 'M.Sc. (Tech.)'\n",
    "df_filt = df[~mask]"
   ]
  },
  {
   "cell_type": "code",
   "execution_count": 26,
   "id": "b7a65207",
   "metadata": {},
   "outputs": [
    {
     "data": {
      "text/html": [
       "<div>\n",
       "<style scoped>\n",
       "    .dataframe tbody tr th:only-of-type {\n",
       "        vertical-align: middle;\n",
       "    }\n",
       "\n",
       "    .dataframe tbody tr th {\n",
       "        vertical-align: top;\n",
       "    }\n",
       "\n",
       "    .dataframe thead th {\n",
       "        text-align: right;\n",
       "    }\n",
       "</style>\n",
       "<table border=\"1\" class=\"dataframe\">\n",
       "  <thead>\n",
       "    <tr style=\"text-align: right;\">\n",
       "      <th></th>\n",
       "      <th>Salary</th>\n",
       "    </tr>\n",
       "    <tr>\n",
       "      <th>Degree</th>\n",
       "      <th></th>\n",
       "    </tr>\n",
       "  </thead>\n",
       "  <tbody>\n",
       "    <tr>\n",
       "      <th>B.Tech/B.E.</th>\n",
       "      <td>308622.702703</td>\n",
       "    </tr>\n",
       "    <tr>\n",
       "      <th>M.Tech./M.E.</th>\n",
       "      <td>366132.075472</td>\n",
       "    </tr>\n",
       "    <tr>\n",
       "      <th>MCA</th>\n",
       "      <td>280802.469136</td>\n",
       "    </tr>\n",
       "  </tbody>\n",
       "</table>\n",
       "</div>"
      ],
      "text/plain": [
       "                     Salary\n",
       "Degree                     \n",
       "B.Tech/B.E.   308622.702703\n",
       "M.Tech./M.E.  366132.075472\n",
       "MCA           280802.469136"
      ]
     },
     "execution_count": 26,
     "metadata": {},
     "output_type": "execute_result"
    }
   ],
   "source": [
    "df_filt[['Salary', 'Degree', 'Gender']].groupby(['Degree']).mean()"
   ]
  },
  {
   "cell_type": "code",
   "execution_count": 29,
   "id": "2783cf88",
   "metadata": {},
   "outputs": [
    {
     "data": {
      "text/html": [
       "<div>\n",
       "<style scoped>\n",
       "    .dataframe tbody tr th:only-of-type {\n",
       "        vertical-align: middle;\n",
       "    }\n",
       "\n",
       "    .dataframe tbody tr th {\n",
       "        vertical-align: top;\n",
       "    }\n",
       "\n",
       "    .dataframe thead th {\n",
       "        text-align: right;\n",
       "    }\n",
       "</style>\n",
       "<table border=\"1\" class=\"dataframe\">\n",
       "  <thead>\n",
       "    <tr style=\"text-align: right;\">\n",
       "      <th></th>\n",
       "      <th></th>\n",
       "      <th>Salary</th>\n",
       "    </tr>\n",
       "    <tr>\n",
       "      <th>HighIncome</th>\n",
       "      <th>Degree</th>\n",
       "      <th></th>\n",
       "    </tr>\n",
       "  </thead>\n",
       "  <tbody>\n",
       "    <tr>\n",
       "      <th rowspan=\"3\" valign=\"top\">False</th>\n",
       "      <th>B.Tech/B.E.</th>\n",
       "      <td>3453</td>\n",
       "    </tr>\n",
       "    <tr>\n",
       "      <th>M.Tech./M.E.</th>\n",
       "      <td>43</td>\n",
       "    </tr>\n",
       "    <tr>\n",
       "      <th>MCA</th>\n",
       "      <td>228</td>\n",
       "    </tr>\n",
       "    <tr>\n",
       "      <th rowspan=\"3\" valign=\"top\">True</th>\n",
       "      <th>B.Tech/B.E.</th>\n",
       "      <td>247</td>\n",
       "    </tr>\n",
       "    <tr>\n",
       "      <th>M.Tech./M.E.</th>\n",
       "      <td>10</td>\n",
       "    </tr>\n",
       "    <tr>\n",
       "      <th>MCA</th>\n",
       "      <td>15</td>\n",
       "    </tr>\n",
       "  </tbody>\n",
       "</table>\n",
       "</div>"
      ],
      "text/plain": [
       "                         Salary\n",
       "HighIncome Degree              \n",
       "False      B.Tech/B.E.     3453\n",
       "           M.Tech./M.E.      43\n",
       "           MCA              228\n",
       "True       B.Tech/B.E.      247\n",
       "           M.Tech./M.E.      10\n",
       "           MCA               15"
      ]
     },
     "execution_count": 29,
     "metadata": {},
     "output_type": "execute_result"
    }
   ],
   "source": [
    "df_filt[['Salary', 'HighIncome', 'Degree']].groupby(['HighIncome',  'Degree']).count()"
   ]
  },
  {
   "cell_type": "code",
   "execution_count": 30,
   "id": "293bd832",
   "metadata": {},
   "outputs": [
    {
     "name": "stdout",
     "output_type": "stream",
     "text": [
      "proportion of high earners within BTech/BE group  0.06675675675675675\n",
      "proportion of high earners within MTech/ME group  0.18867924528301888\n",
      "proportion of high earners within MCA group  0.06172839506172839\n"
     ]
    }
   ],
   "source": [
    "print('proportion of high earners within BTech/BE group ', 247/(3453+247))\n",
    "print('proportion of high earners within MTech/ME group ', 10/53)\n",
    "print('proportion of high earners within MCA group ', 15/(228+15))"
   ]
  },
  {
   "cell_type": "code",
   "execution_count": null,
   "id": "8998e4a9",
   "metadata": {},
   "outputs": [],
   "source": [
    "# Observations\n",
    "# Salary for MTech/ME graduates are highest among the three groups\n",
    "# BTech/BE graduates are on an average earning more compared to MCA graduates.\n",
    "# About 19% of MTech/ME graduates belong to the high income group, whereas its just about 6% in other groups"
   ]
  },
  {
   "cell_type": "code",
   "execution_count": 31,
   "id": "6f5b1d65",
   "metadata": {},
   "outputs": [],
   "source": [
    "# Conclusion\n",
    "# Encouraging women to join tier 1 colleges and to pursue masters may decrease the gender bias we see in the salary distribution."
   ]
  },
  {
   "cell_type": "code",
   "execution_count": 54,
   "id": "02c811ed",
   "metadata": {},
   "outputs": [
    {
     "data": {
      "text/plain": [
       "array(['board ofsecondary education,ap', 'cbse', 'state board',\n",
       "       'mp board bhopal', 'icse',\n",
       "       'karnataka secondary school of examination', 'up',\n",
       "       'karnataka state education examination board', 'ssc',\n",
       "       'kerala state technical education', 0, 'bseb',\n",
       "       'state board of secondary education, andhra pradesh',\n",
       "       'matriculation', 'gujarat state board', 'karnataka state board',\n",
       "       'wbbse', 'maharashtra state board', 'icse board', 'up board',\n",
       "       'board of secondary education(bse) orissa',\n",
       "       'little jacky matric higher secondary school',\n",
       "       'uttar pradesh board', 'bsc,orissa', 'mp board', 'upboard',\n",
       "       'matriculation board', 'j & k bord', 'rbse',\n",
       "       'central board of secondary education', 'pseb', 'jkbose',\n",
       "       'haryana board of school education,(hbse)', 'metric', 'ms board',\n",
       "       'kseeb', 'stateboard', 'maticulation',\n",
       "       'karnataka secondory education board', 'mumbai board', 'sslc',\n",
       "       'kseb', 'board secondary  education', 'matric board',\n",
       "       'board of secondary education',\n",
       "       'west bengal board of secondary education',\n",
       "       'jharkhand secondary examination board,ranchi', 'u p board',\n",
       "       'bseb,patna', 'hsc', 'bse', 'sss pune',\n",
       "       'karnataka education board (keeb)', 'kerala',\n",
       "       'state board of secondary education( ssc)', 'gsheb',\n",
       "       'up(allahabad)', 'nagpur', 'don bosco maatriculation school',\n",
       "       'karnataka state secondary education board', 'maharashtra',\n",
       "       'karnataka secondary education board',\n",
       "       'himachal pradesh board of school education',\n",
       "       'certificate of middle years program of ib',\n",
       "       'karnataka board of secondary education',\n",
       "       'board of secondary education rajasthan', 'uttarakhand board',\n",
       "       'ua', 'board of secendary education orissa',\n",
       "       'karantaka secondary education and examination borad', 'hbsc',\n",
       "       'kseeb(karnataka secondary education examination board)',\n",
       "       'cbse[gulf zone]', 'hbse', 'state(karnataka board)',\n",
       "       'jharkhand accademic council',\n",
       "       'jharkhand secondary examination board (ranchi)',\n",
       "       'karnataka secondary education examination board', 'delhi board',\n",
       "       'mirza ahmed ali baig', 'jseb', 'bse, odisha', 'bihar board',\n",
       "       'maharashtra state(latur board)', 'rajasthan board', 'mpboard',\n",
       "       'upbhsie', 'secondary board of rajasthan',\n",
       "       'tamilnadu matriculation board', 'jharkhand secondary board',\n",
       "       'board of secondary education,andhara pradesh', 'up baord',\n",
       "       'state', 'board of intermediate education',\n",
       "       'state board of secondary education,andhra pradesh',\n",
       "       'up board , allahabad',\n",
       "       'stjosephs girls higher sec school,dindigul', 'maharashtra board',\n",
       "       'education board of kerala', 'board of ssc',\n",
       "       'maharashtra state board pune',\n",
       "       'board of school education harayana',\n",
       "       'secondary school cerfificate', 'maharashtra sate board', 'ksseb',\n",
       "       'bihar examination board, patna', 'latur',\n",
       "       'board of secondary education, rajasthan', 'state borad hp',\n",
       "       'cluny', 'bsepatna', 'up borad', 'ssc board of andrapradesh',\n",
       "       'matric', 'bse,orissa', 'ssc-andhra pradesh', 'mp',\n",
       "       'karnataka education board', 'mhsbse',\n",
       "       'karnataka sslc board bangalore', 'karnataka', 'u p',\n",
       "       'secondary school of education', 'state board of karnataka',\n",
       "       'karnataka secondary board', 'andhra pradesh board ssc',\n",
       "       'stjoseph of cluny matrhrsecschool,neyveli,cuddalore district',\n",
       "       'hse,orissa', 'national public school', 'nagpur board',\n",
       "       'jharkhand academic council', 'bsemp',\n",
       "       'board of secondary education, andhra pradesh',\n",
       "       'board of secondary education orissa',\n",
       "       'board of secondary education,rajasthan(rbse)',\n",
       "       'board of secondary education,ap',\n",
       "       'board of secondary education,andhra pradesh',\n",
       "       'jawahar navodaya vidyalaya', 'aisse',\n",
       "       'karnataka board of higher education', 'bihar',\n",
       "       'kerala state board', 'cicse', 'tn state board',\n",
       "       'kolhapur divisional board, maharashtra',\n",
       "       'bharathi matriculation school', 'uttaranchal state board',\n",
       "       'wbbsce', 'mp state board', 'seba(assam)', 'anglo indian', 'gseb',\n",
       "       'uttar pradesh', 'ghseb', 'board of school education uttarakhand',\n",
       "       'msbshse,pune', 'tamilnadu state board', 'kerala university',\n",
       "       'uttaranchal shiksha avam pariksha parishad',\n",
       "       'bse(board of secondary education)',\n",
       "       'bright way college, (up board)',\n",
       "       'school secondary education, andhra pradesh',\n",
       "       'secondary state certificate',\n",
       "       'maharashtra state board of secondary and higher secondary education,pune',\n",
       "       'andhra pradesh state board', 'stmary higher secondary', 'cgbse',\n",
       "       'secondary school certificate', 'rajasthan board ajmer', 'mpbse',\n",
       "       'pune board', 'cbse ', 'board of secondary education,orissa',\n",
       "       'maharashtra state board,pune', 'up bord',\n",
       "       'kiran english medium high school', 'state board (jac, ranchi)',\n",
       "       'gujarat board', 'state board ', 'sarada high scchool',\n",
       "       'kalaimagal matriculation higher secondary school',\n",
       "       'karnataka board', 'maharastra board', 'sslc board',\n",
       "       'ssc maharashtra board', 'tamil nadu state', 'uttrakhand board',\n",
       "       'bihar secondary education board,patna',\n",
       "       'haryana board of school education',\n",
       "       'sri kannika parameswari highier secondary school, udumalpet',\n",
       "       'ksseb(karnataka state board)', 'nashik board',\n",
       "       'jharkhand secondary education board', 'himachal pradesh board',\n",
       "       'maharashtra satate board',\n",
       "       'maharashtra state board mumbai divisional board',\n",
       "       'dav public school,hehal',\n",
       "       'state board of secondary education, ap',\n",
       "       'rajasthan board of secondary education', 'hsce',\n",
       "       'karnataka secondary education',\n",
       "       'board of secondary education,odisha', 'maharashtra nasik board',\n",
       "       'west bengal board of secondary examination (wbbse)',\n",
       "       'holy cross matriculation hr sec school', 'cbsc', 'apssc',\n",
       "       'bseb patna', 'kolhapur', 'bseb, patna', 'up board allahabad',\n",
       "       'biharboard', 'nagpur board,nagpur', 'pune', 'gyan bharati school',\n",
       "       'rbse,ajmer', 'board of secondaray education',\n",
       "       'secondary school education', 'state bord', 'jbse,jharkhand',\n",
       "       'hse', 'madhya pradesh board', 'bihar school examination board',\n",
       "       'west bengal board of secondary eucation', 'state boardmp board ',\n",
       "       'icse board , new delhi',\n",
       "       'board of secondary education (bse) orissa',\n",
       "       'maharashtra state board for ssc',\n",
       "       'board of secondary school education', 'latur board',\n",
       "       \"stmary's convent inter college\", 'nagpur divisional board',\n",
       "       'ap state board', 'cgbse raipur', 'uttranchal board', 'ksbe',\n",
       "       'central board of secondary education, new delhi',\n",
       "       'bihar school examination board patna', 'cbse board',\n",
       "       'sslc,karnataka', 'mp-bse', 'up bourd', 'dav public school sec 14',\n",
       "       'board of school education haryana',\n",
       "       'council for indian school certificate examination',\n",
       "       'aurangabad board', 'j&k state board of school education',\n",
       "       'maharashtra state board of secondary and higher secondary education',\n",
       "       'maharashtra state boar of secondary and higher secondary education',\n",
       "       'ssc regular', 'karnataka state examination board', 'nasik',\n",
       "       'west bengal  board of secondary education', 'up board,allahabad',\n",
       "       'bseb ,patna',\n",
       "       'state board - west bengal board of secondary education : wbbse',\n",
       "       'maharashtra state board of secondary & higher secondary education',\n",
       "       'delhi public school', 'karnataka secondary eduction',\n",
       "       'secondary education board of rajasthan',\n",
       "       'maharashtra board, pune', 'rbse (state board)', 'apsche',\n",
       "       'board of  secondary education',\n",
       "       'board of high school and intermediate education uttarpradesh',\n",
       "       'kea', 'board of secondary education - andhra pradesh',\n",
       "       'ap state board for secondary education', 'seba',\n",
       "       'punjab school education board, mohali',\n",
       "       'jharkhand acedemic council', 'hse,board',\n",
       "       'board of ssc education andhra pradesh', 'up-board', 'bse,odisha'],\n",
       "      dtype=object)"
      ]
     },
     "execution_count": 54,
     "metadata": {},
     "output_type": "execute_result"
    }
   ],
   "source": [
    "df['10board'].unique()"
   ]
  },
  {
   "cell_type": "code",
   "execution_count": 55,
   "id": "ecc51b47",
   "metadata": {},
   "outputs": [],
   "source": [
    "cbse=['cbse','cbse[gulf zone]','central board of secondary education','central board of secondary education, new delhi','cbse board']\n",
    "icse=['icse','icse board', 'icse board , new delhi']\n",
    "isc=['council for indian school certificate examination','isc']\n",
    "def boardcorrect10(x):\n",
    "    if x in cbse:\n",
    "        return 'cbse'\n",
    "    elif x in icse:\n",
    "        return 'icse'\n",
    "    elif x in isc:\n",
    "        return 'isc'\n",
    "    else:\n",
    "        return 'state'"
   ]
  },
  {
   "cell_type": "code",
   "execution_count": 56,
   "id": "ce885b8d",
   "metadata": {},
   "outputs": [],
   "source": [
    "df['10board']=df['10board'].apply(boardcorrect10)"
   ]
  },
  {
   "cell_type": "code",
   "execution_count": 57,
   "id": "cb543716",
   "metadata": {},
   "outputs": [
    {
     "data": {
      "text/plain": [
       "array(['state', 'cbse', 'icse', 'isc'], dtype=object)"
      ]
     },
     "execution_count": 57,
     "metadata": {},
     "output_type": "execute_result"
    }
   ],
   "source": [
    "df['10board'].unique()"
   ]
  },
  {
   "cell_type": "code",
   "execution_count": 44,
   "id": "d0c38ae7",
   "metadata": {},
   "outputs": [
    {
     "data": {
      "text/plain": [
       "array(['board of intermediate education,ap', 'cbse', 'state board',\n",
       "       'mp board', 'isc', 'icse', 'karnataka pre university board', 'up',\n",
       "       'p u board, karnataka', 'dept of pre-university education', 'bie',\n",
       "       'kerala state hse board', 'up board', 0, 'bseb', 'chse', 'puc',\n",
       "       ' upboard',\n",
       "       'state  board of intermediate education, andhra pradesh',\n",
       "       'karnataka state board',\n",
       "       'west bengal state council of technical education', 'wbchse',\n",
       "       'maharashtra state board', 'ssc', 'isc board',\n",
       "       'sda matric higher secondary school', 'uttar pradesh board', 'ibe',\n",
       "       'chsc', 'board of intermediate', 'isce', 'upboard', 'sbtet',\n",
       "       'hisher seconadry examination(state board)', 'pre university',\n",
       "       'borad of intermediate', 'j & k board',\n",
       "       'intermediate board of andhra pardesh', 'rbse',\n",
       "       'central board of secondary education', 'jkbose', 'hbse',\n",
       "       'board of intermediate education', 'state', 'ms board', 'pue',\n",
       "       'intermediate state board', 'stateboard', 'hsc',\n",
       "       'electonincs and communication(dote)', 'karnataka pu board',\n",
       "       'government polytechnic mumbai , mumbai board', 'pu board',\n",
       "       'baord of intermediate education', 'apbie', 'andhra board',\n",
       "       'tamilnadu stateboard',\n",
       "       'west bengal council of higher secondary education',\n",
       "       'cbse,new delhi', 'u p board', 'intermediate', 'biec,patna',\n",
       "       'diploma in engg (e &tc) tilak maharashtra vidayapeeth',\n",
       "       'hsc pune', 'pu board karnataka', 'kerala', 'gsheb',\n",
       "       'up(allahabad)', 'nagpur', 'st joseph hr sec school',\n",
       "       'pre university board', 'ipe', 'maharashtra', 'kea', 'apsb',\n",
       "       'himachal pradesh board of school education', 'staae board',\n",
       "       'international baccalaureate (ib) diploma', 'nios',\n",
       "       'karnataka board of university',\n",
       "       'board of secondary education rajasthan', 'uttarakhand board',\n",
       "       'ua', 'scte vt orissa', 'matriculation',\n",
       "       'department of pre-university education', 'wbscte',\n",
       "       'preuniversity board(karnataka)', 'jharkhand accademic council',\n",
       "       'bieap', 'msbte (diploma in computer technology)',\n",
       "       'jharkhand acamedic council (ranchi)',\n",
       "       'department of pre-university eduction', 'biec', 'all india board',\n",
       "       'sjrcw', ' board of intermediate', 'msbte',\n",
       "       'sri sankara vidyalaya', 'chse, odisha', 'bihar board',\n",
       "       'maharashtra state(latur board)', 'rajasthan board', 'mpboard',\n",
       "       'state board of technical eduction panchkula', 'upbhsie', 'apbsc',\n",
       "       'state board of technical education and training',\n",
       "       'secondary board of rajasthan',\n",
       "       'tamilnadu higher secondary education board',\n",
       "       'jharkhand academic council',\n",
       "       'board of intermediate education,hyderabad', 'up baord', 'pu',\n",
       "       'dte', 'board of secondary education', 'pre-university',\n",
       "       'board of intermediate education,andhra pradesh',\n",
       "       'up board , allahabad', 'srv girls higher sec school,rasipuram',\n",
       "       'intermediate board of education,andhra pradesh',\n",
       "       'intermediate board examination',\n",
       "       'department of pre-university education, bangalore',\n",
       "       'stmiras college for girls', 'mbose',\n",
       "       'department of pre-university education(government of karnataka)',\n",
       "       'dpue', 'msbte pune', 'board of school education harayana',\n",
       "       'sbte, jharkhand', 'bihar intermediate education council, patna',\n",
       "       'higher secondary', 's j polytechnic', 'latur',\n",
       "       'board of secondary education, rajasthan', 'jyoti nivas', 'pseb',\n",
       "       'biec-patna', 'board of intermediate education,andra pradesh',\n",
       "       'chse,orissa', 'pre-university board', 'mp', 'intermediate board',\n",
       "       'govt of karnataka department of pre-university education',\n",
       "       'karnataka education board',\n",
       "       'board of secondary school of education', 'pu board ,karnataka',\n",
       "       'karnataka secondary education board', 'karnataka sslc',\n",
       "       'board of intermediate ap', 'u p', 'state board of karnataka',\n",
       "       'directorate of technical education,banglore', 'matric board',\n",
       "       'andhpradesh board of intermediate education',\n",
       "       'stjoseph of cluny matrhrsecschool,neyveli,cuddalore district',\n",
       "       'bte up', 'scte and vt ,orissa', 'hbsc',\n",
       "       'jawahar higher secondary school', 'nagpur board', 'bsemp',\n",
       "       'board of intermediate education, andhra pradesh',\n",
       "       'board of higher secondary orissa',\n",
       "       'board of secondary education,rajasthan(rbse)',\n",
       "       'board of intermediate education:ap,hyderabad', 'science college',\n",
       "       'karnatak pu board', 'aissce', 'pre university board of karnataka',\n",
       "       'bihar', 'kerala state board', 'uo board', 'cicse',\n",
       "       'karnataka board', 'tn state board',\n",
       "       'kolhapur divisional board, maharashtra',\n",
       "       'jaycee matriculation school',\n",
       "       'board of higher secondary examination, kerala',\n",
       "       'uttaranchal state board', 'intermidiate', 'bciec,patna', 'bice',\n",
       "       'karnataka state', 'state broad', 'wbbhse', 'gseb',\n",
       "       'uttar pradesh', 'ghseb', 'board of school education uttarakhand',\n",
       "       'gseb/technical education board', 'msbshse,pune',\n",
       "       'tamilnadu state board', 'board of technical education',\n",
       "       'kerala university', 'uttaranchal shiksha avam pariksha parishad',\n",
       "       'chse(concil of higher secondary education)',\n",
       "       'bright way college, (up board)', 'board of intermidiate',\n",
       "       'higher secondary state certificate', 'karanataka secondary board',\n",
       "       'maharashtra board', 'andhra pradesh state board', 'cgbse',\n",
       "       'diploma in computers', 'bte,delhi', 'rajasthan board ajmer',\n",
       "       'mpbse', 'pune board', 'state board of technical education',\n",
       "       'gshseb', 'amravati divisional board',\n",
       "       'dote (diploma - computer engg)', 'up bord',\n",
       "       'karnataka pre-university board', 'jharkhand board',\n",
       "       'punjab state board of technical education & industrial training',\n",
       "       'department of technical education',\n",
       "       'sri chaitanya junior kalasala', 'state board (jac, ranchi)',\n",
       "       'gujarat board', 'aligarh muslim university',\n",
       "       'tamil nadu state board', 'hse', 'karnataka secondary education',\n",
       "       'state board ', 'karnataka pre unversity board',\n",
       "       'ks rangasamy institute of technology',\n",
       "       'karnataka board secondary education', 'narayana junior college',\n",
       "       'bteup', 'board of intermediate(bie)', 'hsc maharashtra board',\n",
       "       'tamil nadu state', 'uttrakhand board', 'psbte',\n",
       "       'stateboard/tamil nadu', 'intermediate council patna',\n",
       "       'technical board, punchkula', 'board of intermidiate examination',\n",
       "       'sri kannika parameswari highier secondary school, udumalpet',\n",
       "       'ap board', 'nashik board', 'himachal pradesh board',\n",
       "       'maharashtra satate board',\n",
       "       'andhra pradesh board of secondary education',\n",
       "       'tamil nadu polytechnic',\n",
       "       'maharashtra state board mumbai divisional board',\n",
       "       'department of pre university education',\n",
       "       'dav public school,hehal', 'board of intermediate education, ap',\n",
       "       'rajasthan board of secondary education',\n",
       "       'department of technical education, bangalore', 'chse,odisha',\n",
       "       'maharashtra nasik board',\n",
       "       'west bengal council of higher secondary examination (wbchse)',\n",
       "       'holy cross matriculation hr sec school', 'cbsc',\n",
       "       'pu  board karnataka', 'biec patna', 'kolhapur', 'bseb, patna',\n",
       "       'up board allahabad', 'intermideate', 'nagpur board,nagpur',\n",
       "       'diploma(msbte)', 'dav public school',\n",
       "       'pre university board, karnataka', 'ssm srsecschool', 'state bord',\n",
       "       'jstb,jharkhand', 'intermediate board of education',\n",
       "       'mp board bhopal', 'pub', 'madhya pradesh board',\n",
       "       'bihar intermediate education council',\n",
       "       'west bengal council of higher secondary eucation',\n",
       "       'isc board , new delhi', 'mpc',\n",
       "       'certificate for higher secondary education (chse)orissa',\n",
       "       'maharashtra state board for hsc',\n",
       "       'board of intermeadiate education', 'latur board',\n",
       "       'andhra pradesh', 'karnataka pre-university',\n",
       "       'lucknow public college', 'nagpur divisional board',\n",
       "       'ap intermediate board', 'cgbse raipur', 'uttranchal board',\n",
       "       'jiec', 'central board of secondary education, new delhi',\n",
       "       'bihar school examination board patna',\n",
       "       'state board of technical education harayana', 'mp-bse',\n",
       "       'up bourd', 'dav public school sec 14',\n",
       "       'haryana state board of technical education chandigarh',\n",
       "       'council for indian school certificate examination',\n",
       "       'jaswant modern school', 'madhya pradesh open school',\n",
       "       'aurangabad board', 'j&k state board of school education',\n",
       "       'diploma ( maharashtra state board of technical education)',\n",
       "       'board of technicaleducation ,delhi',\n",
       "       'maharashtra state boar of secondary and higher secondary education',\n",
       "       'hslc (tamil nadu state board)',\n",
       "       'karnataka state examination board', 'puboard', 'nasik',\n",
       "       'west bengal board of higher secondary education',\n",
       "       'up board,allahabad', 'board of intrmediate education,ap', 'cbese',\n",
       "       'karnataka state pre- university board',\n",
       "       'state board - west bengal council of higher secondary education : wbchse',\n",
       "       'maharashtra state board of secondary & higher secondary education',\n",
       "       'biec, patna', 'state syllabus', 'cbse board', 'scte&vt',\n",
       "       'board of intermediate,ap',\n",
       "       'secnior secondary education board of rajasthan',\n",
       "       'maharashtra board, pune', 'rbse (state board)',\n",
       "       'board of intermidiate education,ap',\n",
       "       'board of high school and intermediate education uttarpradesh',\n",
       "       'higher secondary education',\n",
       "       'board fo intermediate education, ap', 'intermedite',\n",
       "       'ap board for intermediate education', 'ahsec',\n",
       "       'punjab state board of technical education & industrial training, chandigarh',\n",
       "       'state board - tamilnadu', 'jharkhand acedemic council',\n",
       "       'scte & vt (diploma)', 'karnataka pu',\n",
       "       'board of intmediate education ap', 'up-board',\n",
       "       'boardofintermediate'], dtype=object)"
      ]
     },
     "execution_count": 44,
     "metadata": {},
     "output_type": "execute_result"
    }
   ],
   "source": [
    "df['12board'].unique()\n"
   ]
  },
  {
   "cell_type": "code",
   "execution_count": 58,
   "id": "b88184c0",
   "metadata": {},
   "outputs": [],
   "source": [
    "cbse=['cbse','cbsc','cbese','cbse[gulf zone]','cbse,new delhi','central board of secondary education','central board of secondary education, new delhi','cbse board']\n",
    "icse=['icse','icse board', 'icse board , new delhi']\n",
    "isc=['council for indian school certificate examination','isc','isce','isc board']\n",
    "def boardcorrect12(x):\n",
    "    if x in cbse:\n",
    "        return 'cbse'\n",
    "    elif x in icse:\n",
    "        return 'icse'\n",
    "    elif x in isc:\n",
    "        return 'isc'\n",
    "    else:\n",
    "        return 'state'"
   ]
  },
  {
   "cell_type": "code",
   "execution_count": 59,
   "id": "a15193fe",
   "metadata": {},
   "outputs": [],
   "source": [
    "df['12board']=df['12board'].apply(boardcorrect12)"
   ]
  },
  {
   "cell_type": "code",
   "execution_count": 60,
   "id": "384936c0",
   "metadata": {},
   "outputs": [
    {
     "data": {
      "text/plain": [
       "array(['state', 'cbse', 'isc', 'icse'], dtype=object)"
      ]
     },
     "execution_count": 60,
     "metadata": {},
     "output_type": "execute_result"
    }
   ],
   "source": [
    "df['12board'].unique()"
   ]
  },
  {
   "cell_type": "code",
   "execution_count": 66,
   "id": "3283c7dc",
   "metadata": {},
   "outputs": [
    {
     "data": {
      "text/plain": [
       "<AxesSubplot:xlabel='10board', ylabel='count'>"
      ]
     },
     "execution_count": 66,
     "metadata": {},
     "output_type": "execute_result"
    },
    {
     "data": {
      "image/png": "[encoded data removed]",
      "text/plain": [
       "<Figure size 432x288 with 1 Axes>"
      ]
     },
     "metadata": {
      "needs_background": "light"
     },
     "output_type": "display_data"
    }
   ],
   "source": [
    "sns.countplot(x='10board', data=df)"
   ]
  },
  {
   "cell_type": "code",
   "execution_count": 68,
   "id": "b94526c1",
   "metadata": {},
   "outputs": [
    {
     "data": {
      "text/html": [
       "<div>\n",
       "<style scoped>\n",
       "    .dataframe tbody tr th:only-of-type {\n",
       "        vertical-align: middle;\n",
       "    }\n",
       "\n",
       "    .dataframe tbody tr th {\n",
       "        vertical-align: top;\n",
       "    }\n",
       "\n",
       "    .dataframe thead th {\n",
       "        text-align: right;\n",
       "    }\n",
       "</style>\n",
       "<table border=\"1\" class=\"dataframe\">\n",
       "  <thead>\n",
       "    <tr style=\"text-align: right;\">\n",
       "      <th></th>\n",
       "      <th>ID</th>\n",
       "      <th>Salary</th>\n",
       "      <th>DOJ</th>\n",
       "      <th>DOL</th>\n",
       "      <th>Designation</th>\n",
       "      <th>JobCity</th>\n",
       "      <th>Gender</th>\n",
       "      <th>DOB</th>\n",
       "      <th>10percentage</th>\n",
       "      <th>10board</th>\n",
       "      <th>...</th>\n",
       "      <th>MechanicalEngg</th>\n",
       "      <th>ElectricalEngg</th>\n",
       "      <th>TelecomEngg</th>\n",
       "      <th>CivilEngg</th>\n",
       "      <th>conscientiousness</th>\n",
       "      <th>agreeableness</th>\n",
       "      <th>extraversion</th>\n",
       "      <th>nueroticism</th>\n",
       "      <th>openess_to_experience</th>\n",
       "      <th>HighIncome</th>\n",
       "    </tr>\n",
       "  </thead>\n",
       "  <tbody>\n",
       "    <tr>\n",
       "      <th>3404</th>\n",
       "      <td>512864</td>\n",
       "      <td>500000</td>\n",
       "      <td>2012-06-01</td>\n",
       "      <td>present</td>\n",
       "      <td>program manager</td>\n",
       "      <td>Gurgaon</td>\n",
       "      <td>m</td>\n",
       "      <td>1990-09-10</td>\n",
       "      <td>82.0</td>\n",
       "      <td>isc</td>\n",
       "      <td>...</td>\n",
       "      <td>-1</td>\n",
       "      <td>-1</td>\n",
       "      <td>-1</td>\n",
       "      <td>-1</td>\n",
       "      <td>0.7419</td>\n",
       "      <td>0.8128</td>\n",
       "      <td>-1.6502</td>\n",
       "      <td>-0.8778</td>\n",
       "      <td>-0.2875</td>\n",
       "      <td>False</td>\n",
       "    </tr>\n",
       "  </tbody>\n",
       "</table>\n",
       "<p>1 rows × 39 columns</p>\n",
       "</div>"
      ],
      "text/plain": [
       "          ID  Salary        DOJ      DOL      Designation  JobCity Gender  \\\n",
       "3404  512864  500000 2012-06-01  present  program manager  Gurgaon      m   \n",
       "\n",
       "            DOB  10percentage 10board  ...  MechanicalEngg  ElectricalEngg  \\\n",
       "3404 1990-09-10          82.0     isc  ...              -1              -1   \n",
       "\n",
       "     TelecomEngg  CivilEngg  conscientiousness agreeableness extraversion  \\\n",
       "3404          -1         -1             0.7419        0.8128      -1.6502   \n",
       "\n",
       "      nueroticism  openess_to_experience  HighIncome  \n",
       "3404      -0.8778                -0.2875       False  \n",
       "\n",
       "[1 rows x 39 columns]"
      ]
     },
     "execution_count": 68,
     "metadata": {},
     "output_type": "execute_result"
    }
   ],
   "source": [
    "df[df['10board']=='isc']\n"
   ]
  },
  {
   "cell_type": "code",
   "execution_count": 69,
   "id": "3c62a959",
   "metadata": {},
   "outputs": [],
   "source": [
    "# since there is only one candidate from isc, we filter it out\n",
    "\n",
    "mask2 = df['10board']=='isc'\n",
    "df_filt2 = df[~mask2]"
   ]
  },
  {
   "cell_type": "code",
   "execution_count": 74,
   "id": "ef7e46c3",
   "metadata": {},
   "outputs": [
    {
     "data": {
      "text/plain": [
       "<AxesSubplot:xlabel='10board', ylabel='Salary'>"
      ]
     },
     "execution_count": 74,
     "metadata": {},
     "output_type": "execute_result"
    },
    {
     "data": {
      "image/png": "[encoded data removed]",
      "text/plain": [
       "<Figure size 432x288 with 1 Axes>"
      ]
     },
     "metadata": {
      "needs_background": "light"
     },
     "output_type": "display_data"
    }
   ],
   "source": [
    "sns.violinplot(x='10board', y='Salary', data=df_filt2)"
   ]
  },
  {
   "cell_type": "code",
   "execution_count": 75,
   "id": "d3af7bc6",
   "metadata": {},
   "outputs": [
    {
     "data": {
      "text/plain": [
       "<AxesSubplot:xlabel='10board', ylabel='Salary'>"
      ]
     },
     "execution_count": 75,
     "metadata": {},
     "output_type": "execute_result"
    },
    {
     "data": {
      "image/png": "[encoded data removed]",
      "text/plain": [
       "<Figure size 432x288 with 1 Axes>"
      ]
     },
     "metadata": {
      "needs_background": "light"
     },
     "output_type": "display_data"
    }
   ],
   "source": [
    "sns.violinplot(x='10board', y='Salary', data=df_filt2[df_filt2['HighIncome']==False])"
   ]
  },
  {
   "cell_type": "code",
   "execution_count": 67,
   "id": "d8ce8c6c",
   "metadata": {},
   "outputs": [
    {
     "data": {
      "text/plain": [
       "<AxesSubplot:xlabel='12board', ylabel='count'>"
      ]
     },
     "execution_count": 67,
     "metadata": {},
     "output_type": "execute_result"
    },
    {
     "data": {
      "image/png": "[encoded data removed]",
      "text/plain": [
       "<Figure size 432x288 with 1 Axes>"
      ]
     },
     "metadata": {
      "needs_background": "light"
     },
     "output_type": "display_data"
    }
   ],
   "source": [
    "sns.countplot(x='12board', data=df)"
   ]
  },
  {
   "cell_type": "code",
   "execution_count": null,
   "id": "ca40b3ec",
   "metadata": {},
   "outputs": [],
   "source": []
  }
 ],
 "metadata": {
  "kernelspec": {
   "display_name": "Python 3",
   "language": "python",
   "name": "python3"
  },
  "language_info": {
   "codemirror_mode": {
    "name": "ipython",
    "version": 3
   },
   "file_extension": ".py",
   "mimetype": "text/x-python",
   "name": "python",
   "nbconvert_exporter": "python",
   "pygments_lexer": "ipython3",
   "version": "3.8.8"
  }
 },
 "nbformat": 4,
 "nbformat_minor": 5
}
